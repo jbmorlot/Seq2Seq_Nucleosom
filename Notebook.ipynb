{
 "cells": [
  {
   "cell_type": "code",
   "execution_count": 1,
   "metadata": {
    "scrolled": true
   },
   "outputs": [],
   "source": [
    "import numpy as np\n",
    "import scipy\n",
    "import matplotlib.pyplot as plt\n",
    "from importlib import reload\n",
    "\n",
    "import train as t\n",
    "import model\n",
    "import loss\n",
    "import utils"
   ]
  },
  {
   "cell_type": "code",
   "execution_count": 2,
   "metadata": {},
   "outputs": [
    {
     "data": {
      "text/plain": [
       "<module 'utils' from '/users/invites/jmorlot/Documents/Projects/Seq2Seq_Nucleosom/utils.py'>"
      ]
     },
     "execution_count": 2,
     "metadata": {},
     "output_type": "execute_result"
    }
   ],
   "source": [
    "reload(utils)"
   ]
  },
  {
   "cell_type": "code",
   "execution_count": 3,
   "metadata": {},
   "outputs": [
    {
     "data": {
      "text/plain": [
       "<module 'model' from '/users/invites/jmorlot/Documents/Projects/Seq2Seq_Nucleosom/model.py'>"
      ]
     },
     "execution_count": 3,
     "metadata": {},
     "output_type": "execute_result"
    }
   ],
   "source": [
    "reload(model)"
   ]
  },
  {
   "cell_type": "code",
   "execution_count": 4,
   "metadata": {},
   "outputs": [
    {
     "data": {
      "text/plain": [
       "<module 'train' from '/users/invites/jmorlot/Documents/Projects/Seq2Seq_Nucleosom/train.py'>"
      ]
     },
     "execution_count": 4,
     "metadata": {},
     "output_type": "execute_result"
    }
   ],
   "source": [
    "reload(t)"
   ]
  },
  {
   "cell_type": "code",
   "execution_count": 5,
   "metadata": {},
   "outputs": [],
   "source": [
    "rm -rf logs/"
   ]
  },
  {
   "cell_type": "code",
   "execution_count": 6,
   "metadata": {},
   "outputs": [],
   "source": [
    "s2s = t.Seq2Seq(fasta_path='Nucleosom_data/Reference sequence-chrI-1..230218.fasta',\n",
    "                histone_path='Nucleosom_data/Chereji_2018_Occupancy_H3_CC_V64-chrI-1..230218.bedgraph',\n",
    "                input_size=5,\n",
    "                output_size=1,\n",
    "                batch_size=32,\n",
    "                seq_len_DNA=100,\n",
    "                seq_len_hist=100,\n",
    "                Nepochs=1,\n",
    "                hidden_size=32,\n",
    "                dropout_p=0.2,\n",
    "                n_layers=5)"
   ]
  },
  {
   "cell_type": "code",
   "execution_count": 7,
   "metadata": {
    "scrolled": true
   },
   "outputs": [
    {
     "name": "stderr",
     "output_type": "stream",
     "text": [
      "  0%|          | 0/1 [00:00<?, ?it/s]\n",
      "train:   0%|          | 0/57 [00:00<?, ?it/s]\u001b[A/users/invites/jmorlot/Documents/Projects/Seq2Seq_Nucleosom/train.py:334: RuntimeWarning: Mean of empty slice.\n",
      "  info[prefix] =  np.array(self.loss_record[p]).mean()\n",
      "/users/invites/jmorlot/anaconda2/envs/GPU/lib/python3.6/site-packages/numpy/core/_methods.py:85: RuntimeWarning: invalid value encountered in double_scalars\n",
      "  ret = ret.dtype.type(ret / rcount)\n",
      "\n",
      "train:   2%|▏         | 1/57 [00:01<01:26,  1.55s/it]\u001b[A\n",
      "train:   4%|▎         | 2/57 [00:03<01:24,  1.54s/it]\u001b[A\n",
      "train:   5%|▌         | 3/57 [00:04<01:22,  1.53s/it]\u001b[A\n",
      "train:   7%|▋         | 4/57 [00:06<01:21,  1.53s/it]\u001b[A\n",
      "train:   9%|▉         | 5/57 [00:07<01:19,  1.53s/it]\u001b[A\n",
      "train:  11%|█         | 6/57 [00:09<01:17,  1.53s/it]\u001b[A\n",
      "train:  12%|█▏        | 7/57 [00:10<01:15,  1.51s/it]\u001b[A\n",
      "train:  14%|█▍        | 8/57 [00:12<01:14,  1.51s/it]\u001b[A\n",
      "train:  16%|█▌        | 9/57 [00:13<01:12,  1.50s/it]\u001b[A\n",
      "train:  18%|█▊        | 10/57 [00:15<01:10,  1.50s/it]\u001b[A\n",
      "train:  19%|█▉        | 11/57 [00:16<01:08,  1.50s/it]\u001b[A\n",
      "train:  21%|██        | 12/57 [00:18<01:06,  1.49s/it]\u001b[A\n",
      "train:  23%|██▎       | 13/57 [00:19<01:05,  1.49s/it]\u001b[A\n",
      "train:  25%|██▍       | 14/57 [00:21<01:04,  1.49s/it]\u001b[A\n",
      "train:  26%|██▋       | 15/57 [00:22<01:02,  1.48s/it]\u001b[A\n",
      "train:  28%|██▊       | 16/57 [00:23<01:00,  1.48s/it]\u001b[A\n",
      "train:  30%|██▉       | 17/57 [00:25<00:59,  1.48s/it]\u001b[A\n",
      "train:  32%|███▏      | 18/57 [00:26<00:57,  1.48s/it]\u001b[A\n",
      "train:  33%|███▎      | 19/57 [00:28<00:56,  1.48s/it]\u001b[A\n",
      "train:  35%|███▌      | 20/57 [00:29<00:54,  1.47s/it]\u001b[A\n",
      "train:  37%|███▋      | 21/57 [00:31<00:52,  1.47s/it]\u001b[A\n",
      "train:  39%|███▊      | 22/57 [00:32<00:51,  1.47s/it]\u001b[A\n",
      "train:  40%|████      | 23/57 [00:34<00:50,  1.48s/it]\u001b[A\n",
      "train:  42%|████▏     | 24/57 [00:35<00:48,  1.48s/it]\u001b[A\n",
      "train:  44%|████▍     | 25/57 [00:37<00:47,  1.47s/it]\u001b[A\n",
      "train:  46%|████▌     | 26/57 [00:38<00:46,  1.49s/it]\u001b[A\n",
      "train:  47%|████▋     | 27/57 [00:40<00:44,  1.48s/it]\u001b[A\n",
      "train:  49%|████▉     | 28/57 [00:41<00:42,  1.48s/it]\u001b[A\n",
      "train:  51%|█████     | 29/57 [00:43<00:41,  1.49s/it]\u001b[A\n",
      "train:  53%|█████▎    | 30/57 [00:44<00:39,  1.48s/it]\u001b[A\n",
      "train:  54%|█████▍    | 31/57 [00:46<00:38,  1.47s/it]\u001b[A\n",
      "train:  56%|█████▌    | 32/57 [00:47<00:36,  1.47s/it]\u001b[A\n",
      "train:  58%|█████▊    | 33/57 [00:49<00:35,  1.48s/it]\u001b[A\n",
      "train:  60%|█████▉    | 34/57 [00:50<00:33,  1.48s/it]\u001b[A\n",
      "train:  61%|██████▏   | 35/57 [00:52<00:32,  1.47s/it]\u001b[A\n",
      "train:  63%|██████▎   | 36/57 [00:53<00:30,  1.47s/it]\u001b[A\n",
      "train:  65%|██████▍   | 37/57 [00:54<00:29,  1.47s/it]\u001b[A\n",
      "train:  67%|██████▋   | 38/57 [00:56<00:28,  1.48s/it]\u001b[A\n",
      "train:  68%|██████▊   | 39/57 [00:57<00:26,  1.48s/it]\u001b[A\n",
      "train:  70%|███████   | 40/57 [00:59<00:25,  1.47s/it]\u001b[A\n",
      "train:  72%|███████▏  | 41/57 [01:00<00:23,  1.47s/it]\u001b[A\n",
      "train:  74%|███████▎  | 42/57 [01:02<00:21,  1.47s/it]\u001b[A\n",
      "train:  75%|███████▌  | 43/57 [01:03<00:20,  1.46s/it]\u001b[A\n",
      "train:  77%|███████▋  | 44/57 [01:05<00:19,  1.46s/it]\u001b[A\n",
      "train:  79%|███████▉  | 45/57 [01:06<00:17,  1.46s/it]\u001b[A\n",
      "train:  81%|████████  | 46/57 [01:08<00:16,  1.46s/it]\u001b[A\n",
      "train:  82%|████████▏ | 47/57 [01:09<00:14,  1.46s/it]\u001b[A\n",
      "train:  84%|████████▍ | 48/57 [01:11<00:13,  1.46s/it]\u001b[A\n",
      "train:  86%|████████▌ | 49/57 [01:12<00:11,  1.46s/it]\u001b[A\n",
      "train:  88%|████████▊ | 50/57 [01:14<00:10,  1.48s/it]\u001b[A\n",
      "train:  89%|████████▉ | 51/57 [01:15<00:08,  1.47s/it]\u001b[A\n",
      "train:  91%|█████████ | 52/57 [01:17<00:07,  1.47s/it]\u001b[A\n",
      "train:  93%|█████████▎| 53/57 [01:18<00:05,  1.47s/it]\u001b[A\n",
      "train:  95%|█████████▍| 54/57 [01:19<00:04,  1.47s/it]\u001b[A\n",
      "train:  96%|█████████▋| 55/57 [01:21<00:02,  1.47s/it]\u001b[A\n",
      "train:  98%|█████████▊| 56/57 [01:22<00:01,  1.46s/it]\u001b[A\n",
      "train: 100%|██████████| 57/57 [01:24<00:00,  1.46s/it]\u001b[A\n",
      "\u001b[A\n",
      "validation:   0%|          | 0/15 [00:00<?, ?it/s]\u001b[A\n",
      "validation:   7%|▋         | 1/15 [00:00<00:08,  1.60it/s]\u001b[A\n",
      "validation:  13%|█▎        | 2/15 [00:01<00:08,  1.62it/s]\u001b[A\n",
      "validation:  20%|██        | 3/15 [00:01<00:07,  1.64it/s]\u001b[A\n",
      "validation:  27%|██▋       | 4/15 [00:02<00:06,  1.65it/s]\u001b[A\n",
      "validation:  33%|███▎      | 5/15 [00:03<00:06,  1.66it/s]\u001b[A\n",
      "validation:  40%|████      | 6/15 [00:03<00:05,  1.66it/s]\u001b[A\n",
      "validation:  47%|████▋     | 7/15 [00:04<00:04,  1.67it/s]\u001b[A\n",
      "validation:  53%|█████▎    | 8/15 [00:04<00:04,  1.67it/s]\u001b[A\n",
      "validation:  60%|██████    | 9/15 [00:05<00:03,  1.67it/s]\u001b[A\n",
      "validation:  67%|██████▋   | 10/15 [00:06<00:02,  1.67it/s]\u001b[A\n",
      "validation:  73%|███████▎  | 11/15 [00:06<00:02,  1.67it/s]\u001b[A\n",
      "validation:  80%|████████  | 12/15 [00:07<00:01,  1.67it/s]\u001b[A\n",
      "validation:  87%|████████▋ | 13/15 [00:07<00:01,  1.67it/s]\u001b[A\n",
      "validation:  93%|█████████▎| 14/15 [00:08<00:00,  1.67it/s]\u001b[A\n",
      "validation: 100%|██████████| 15/15 [00:08<00:00,  1.67it/s]\u001b[A\n",
      "100%|██████████| 1/1 [01:33<00:00, 93.32s/it]\n"
     ]
    }
   ],
   "source": [
    "s2s.train()"
   ]
  },
  {
   "cell_type": "code",
   "execution_count": 9,
   "metadata": {
    "scrolled": true
   },
   "outputs": [
    {
     "name": "stderr",
     "output_type": "stream",
     "text": [
      "validation: 57it [00:33,  1.69it/s]                        \n"
     ]
    }
   ],
   "source": [
    "decoder_outputs, attention_list = s2s.predict(fasta_path='Nucleosom_data/Reference sequence-chrI-1..230218.fasta')"
   ]
  },
  {
   "cell_type": "code",
   "execution_count": 17,
   "metadata": {},
   "outputs": [],
   "source": [
    "import torch\n",
    "xs=[]\n",
    "ys=[]\n",
    "for x,y in s2s.train_loader:\n",
    "    xs.append(x)\n",
    "    ys.append(y)\n",
    "xs = torch.cat(xs,0).cpu().numpy()\n",
    "ys = torch.cat(ys,0).cpu().numpy()"
   ]
  },
  {
   "cell_type": "code",
   "execution_count": 18,
   "metadata": {},
   "outputs": [
    {
     "name": "stdout",
     "output_type": "stream",
     "text": [
      "(1824, 1, 100) (1824, 1, 100)\n"
     ]
    }
   ],
   "source": [
    "print(decoder_outputs.shape,ys.shape)"
   ]
  },
  {
   "cell_type": "code",
   "execution_count": 19,
   "metadata": {},
   "outputs": [
    {
     "data": {
      "image/png": "[encoded data removed]",
      "text/plain": [
       "<Figure size 432x288 with 1 Axes>"
      ]
     },
     "metadata": {},
     "output_type": "display_data"
    }
   ],
   "source": [
    "plt.plot(decoder_outputs[10,0,:],'r')\n",
    "plt.plot(ys[10,0,:],'b')\n",
    "plt.show()"
   ]
  },
  {
   "cell_type": "code",
   "execution_count": 14,
   "metadata": {},
   "outputs": [],
   "source": [
    "#Reload model changes\n",
    "reload(t)\n",
    "s2s2 = t.Seq2Seq(fasta_path='Nucleosom_data/Reference sequence-chrI-1..230218.fasta',\n",
    "                histone_path='Nucleosom_data/Chereji_2018_Occupancy_H3_CC_V64-chrI-1..230218.bedgraph',\n",
    "                input_size=5,\n",
    "                output_size=1,\n",
    "                batch_size=32,\n",
    "                seq_len_DNA=100,\n",
    "                seq_len_hist=100,\n",
    "                Nepochs=1,\n",
    "                hidden_size=32,\n",
    "                dropout_p=0.2,\n",
    "                n_layers=5)\n",
    "s2s2.__dict__ = s2s.__dict__ \n",
    "s2s = t.Seq2Seq(fasta_path='Nucleosom_data/Reference sequence-chrI-1..230218.fasta',\n",
    "                histone_path='Nucleosom_data/Chereji_2018_Occupancy_H3_CC_V64-chrI-1..230218.bedgraph',\n",
    "                input_size=5,\n",
    "                output_size=1,\n",
    "                batch_size=32,\n",
    "                seq_len_DNA=100,\n",
    "                seq_len_hist=100,\n",
    "                Nepochs=1,\n",
    "                hidden_size=32,\n",
    "                dropout_p=0.2,\n",
    "                n_layers=5)\n",
    "s2s.__dict__  = s2s2.__dict__\n",
    "del s2s2"
   ]
  },
  {
   "cell_type": "code",
   "execution_count": 15,
   "metadata": {},
   "outputs": [],
   "source": [
    "import torch\n",
    "a=torch.rand(1)\n",
    "if (a>0.5):\n",
    "    print(a)"
   ]
  }
 ],
 "metadata": {
  "kernelspec": {
   "display_name": "Python 3",
   "language": "python",
   "name": "python3"
  },
  "language_info": {
   "codemirror_mode": {
    "name": "ipython",
    "version": 3
   },
   "file_extension": ".py",
   "mimetype": "text/x-python",
   "name": "python",
   "nbconvert_exporter": "python",
   "pygments_lexer": "ipython3",
   "version": "3.6.6"
  }
 },
 "nbformat": 4,
 "nbformat_minor": 2
}
